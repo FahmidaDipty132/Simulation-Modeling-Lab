{
  "nbformat": 4,
  "nbformat_minor": 0,
  "metadata": {
    "colab": {
      "provenance": []
    },
    "kernelspec": {
      "name": "python3",
      "display_name": "Python 3"
    },
    "language_info": {
      "name": "python"
    }
  },
  "cells": [
    {
      "cell_type": "code",
      "execution_count": 5,
      "metadata": {
        "id": "cF--YaGxjCfv"
      },
      "outputs": [],
      "source": [
        "import numpy as np\n",
        "from sympy import Matrix\n",
        "import matplotlib.pyplot as plt\n",
        "import seaborn as sns\n",
        "\n"
      ]
    },
    {
      "cell_type": "markdown",
      "source": [
        "# Scaler and Built In **Functions**\n"
      ],
      "metadata": {
        "id": "wPaheOOANjBP"
      }
    },
    {
      "cell_type": "code",
      "source": [
        "scalar = 3.7\n",
        "arr = np.array([1,2,3,4,5,6])\n",
        "\n",
        "\n",
        "sin_values= np.sin(arr)\n",
        "cos_values= np.cos(arr)\n",
        "tan_values= np.tan(arr)\n",
        "asin_values = np.arcsin(np.clip(arr/np.max(arr), -1, 1))\n",
        "acos_values = np.arccos(np.clip(arr/np.max(arr), -1, 1))\n",
        "atan_values = np.arctan(arr)\n",
        "\n",
        "exp_values= np.exp(arr)\n",
        "log_values= np.exp(arr)\n",
        "\n",
        "rem_values= np.remainder(arr,2)\n",
        "\n",
        "round_values = np.round(arr)\n",
        "floor_values = np.floor(arr)\n",
        "ceil_values = np.ceil(arr)\n",
        "trunc_values =np.trunc(arr)\n",
        "\n",
        "\n",
        "print(\"sin:\",sin_values)\n",
        "print(\"cos:\",cos_values)\n",
        "print(\"tan:\", tan_values)\n",
        "print(\"asin:\", asin_values)\n",
        "print(\"acos:\",acos_values)\n",
        "print(\"atan:\",atan_values)\n",
        "print(\"exp:\", exp_values)\n",
        "print(\"log:\", log_values)\n",
        "print(\"Remainder:\", rem_values)\n",
        "print(\"Round:\", round_values)\n",
        "print(\"floor:\", floor_values)\n",
        "print(\"ceil:\", ceil_values)\n",
        "print(\"trunc:\", trunc_values)\n",
        "\n",
        "\n",
        "\n"
      ],
      "metadata": {
        "colab": {
          "base_uri": "https://localhost:8080/"
        },
        "id": "-_h17fn69c6S",
        "outputId": "bd4cdea5-e1a4-4443-99f3-ac353177f3df"
      },
      "execution_count": 15,
      "outputs": [
        {
          "output_type": "stream",
          "name": "stdout",
          "text": [
            "sin: [ 0.84147098  0.90929743  0.14112001 -0.7568025  -0.95892427 -0.2794155 ]\n",
            "cos: [ 0.54030231 -0.41614684 -0.9899925  -0.65364362  0.28366219  0.96017029]\n",
            "tan: [ 1.55740772 -2.18503986 -0.14254654  1.15782128 -3.38051501 -0.29100619]\n",
            "asin: [0.16744808 0.33983691 0.52359878 0.72972766 0.98511078 1.57079633]\n",
            "acos: [1.40334825 1.23095942 1.04719755 0.84106867 0.58568554 0.        ]\n",
            "atan: [0.78539816 1.10714872 1.24904577 1.32581766 1.37340077 1.40564765]\n",
            "exp: [  2.71828183   7.3890561   20.08553692  54.59815003 148.4131591\n",
            " 403.42879349]\n",
            "log: [  2.71828183   7.3890561   20.08553692  54.59815003 148.4131591\n",
            " 403.42879349]\n",
            "Remainder: [1 0 1 0 1 0]\n",
            "Round: [1 2 3 4 5 6]\n",
            "floor: [1. 2. 3. 4. 5. 6.]\n",
            "ceil: [1. 2. 3. 4. 5. 6.]\n",
            "trunc: [1. 2. 3. 4. 5. 6.]\n"
          ]
        }
      ]
    },
    {
      "cell_type": "markdown",
      "source": [
        "# 3X2 **matrix**"
      ],
      "metadata": {
        "id": "30yBiCiXNz3A"
      }
    },
    {
      "cell_type": "code",
      "source": [
        "matrix = np.array([[1,2],[2,3],[3,4]])\n",
        "\n",
        "\n",
        "\n",
        "sin_values= np.sin(matrix)\n",
        "cos_values= np.cos(matrix)\n",
        "tan_values= np.tan(matrix)\n",
        "asin_values = np.arcsin(np.clip(matrix/np.max(matrix), -1, 1))\n",
        "acos_values = np.arccos(np.clip(matrix/np.max(matrix), -1, 1))\n",
        "atan_values = np.arctan(matrix)\n",
        "\n",
        "exp_values= np.exp(matrix)\n",
        "log_values= np.exp(matrix)\n",
        "\n",
        "rem_values= np.remainder(matrix,2)\n",
        "\n",
        "round_values = np.round(matrix)\n",
        "floor_values = np.floor(matrix)\n",
        "ceil_values = np.ceil(matrix)\n",
        "trunc_values =np.trunc(matrix)\n",
        "\n",
        "\n",
        "print(\"sin:\",sin_values)\n",
        "print(\"cos:\",cos_values)\n",
        "print(\"tan:\", tan_values)\n",
        "print(\"asin:\", asin_values)\n",
        "print(\"acos:\",acos_values)\n",
        "print(\"atan:\",atan_values)\n",
        "print(\"exp:\", exp_values)\n",
        "print(\"log:\", log_values)\n",
        "print(\"Remainder:\", rem_values)\n",
        "print(\"Round:\", round_values)\n",
        "print(\"floor:\", floor_values)\n",
        "print(\"ceil:\", ceil_values)\n",
        "print(\"trunc:\", trunc_values)\n",
        "\n"
      ],
      "metadata": {
        "colab": {
          "base_uri": "https://localhost:8080/"
        },
        "id": "ENW8MkJzNg6Z",
        "outputId": "8c9dfa33-112d-4842-e507-8306efdfb12a"
      },
      "execution_count": 20,
      "outputs": [
        {
          "output_type": "stream",
          "name": "stdout",
          "text": [
            "sin: [[ 0.84147098  0.90929743]\n",
            " [ 0.90929743  0.14112001]\n",
            " [ 0.14112001 -0.7568025 ]]\n",
            "cos: [[ 0.54030231 -0.41614684]\n",
            " [-0.41614684 -0.9899925 ]\n",
            " [-0.9899925  -0.65364362]]\n",
            "tan: [[ 1.55740772 -2.18503986]\n",
            " [-2.18503986 -0.14254654]\n",
            " [-0.14254654  1.15782128]]\n",
            "asin: [[0.25268026 0.52359878]\n",
            " [0.52359878 0.84806208]\n",
            " [0.84806208 1.57079633]]\n",
            "acos: [[1.31811607 1.04719755]\n",
            " [1.04719755 0.72273425]\n",
            " [0.72273425 0.        ]]\n",
            "atan: [[0.78539816 1.10714872]\n",
            " [1.10714872 1.24904577]\n",
            " [1.24904577 1.32581766]]\n",
            "exp: [[ 2.71828183  7.3890561 ]\n",
            " [ 7.3890561  20.08553692]\n",
            " [20.08553692 54.59815003]]\n",
            "log: [[ 2.71828183  7.3890561 ]\n",
            " [ 7.3890561  20.08553692]\n",
            " [20.08553692 54.59815003]]\n",
            "Remainder: [[1 0]\n",
            " [0 1]\n",
            " [1 0]]\n",
            "Round: [[1 2]\n",
            " [2 3]\n",
            " [3 4]]\n",
            "floor: [[1. 2.]\n",
            " [2. 3.]\n",
            " [3. 4.]]\n",
            "ceil: [[1. 2.]\n",
            " [2. 3.]\n",
            " [3. 4.]]\n",
            "trunc: [[1. 2.]\n",
            " [2. 3.]\n",
            " [3. 4.]]\n"
          ]
        }
      ]
    },
    {
      "cell_type": "markdown",
      "source": [
        "# Vector **Functions**"
      ],
      "metadata": {
        "id": "iP7KlJMcRXKr"
      }
    },
    {
      "cell_type": "code",
      "source": [
        "vec=np.array([[3.2,2.1,1.1],[4.2,2.3,2.2]])\n",
        "\n",
        "max_value = np.max(vec)\n",
        "max_index = np.argmax(vec)\n",
        "\n",
        "min_value = np.min(vec)\n",
        "min_index = np.argmin(vec)\n",
        "\n",
        "\n",
        "vec_length = len(vec)\n",
        "\n",
        "\n",
        "sorted_vec = np.sort(vec)\n",
        "\n",
        "sum_values = np.sum(vec)\n",
        "\n",
        "prod_values = np.prod(vec)\n",
        "\n",
        "median_value = np.median(vec)\n",
        "\n",
        "mean_value = np.mean(vec)\n",
        "\n",
        "std_dev = np.std(vec)\n",
        "\n",
        "\n",
        "rowwise_desc = -np.sort(-vec, axis=1)\n",
        "\n",
        "sorted_flat = np.sort(vec.flatten())[::-1]\n",
        "sorted_matrix = sorted_flat.reshape(vec.shape)\n",
        "\n",
        "\n",
        "print(\"Max value:\", max_value, \"at index\", max_index)\n",
        "print(\"Min value:\", min_value, \"at index\", min_index)\n",
        "print(\"Length of vector:\", vec_length)\n",
        "print(\"Sorted vector:\", sorted_vec)\n",
        "print(\"Sum of elements:\", sum_values)\n",
        "print(\"Product of elements:\", prod_values)\n",
        "print(\"Median value:\", median_value)\n",
        "print(\"Mean value:\", mean_value)\n",
        "print(\"Standard deviation:\", std_dev)\n",
        "print(\"Row-wise descending:\\n\", rowwise_desc)\n",
        "print(\"Entire matrix descending:\\n\", sorted_matrix)\n",
        "\n"
      ],
      "metadata": {
        "colab": {
          "base_uri": "https://localhost:8080/"
        },
        "id": "nUBwZavVR3vn",
        "outputId": "e633be31-0059-43ea-fcc8-390da498eb47"
      },
      "execution_count": 23,
      "outputs": [
        {
          "output_type": "stream",
          "name": "stdout",
          "text": [
            "Max value: 4.2 at index 3\n",
            "Min value: 1.1 at index 2\n",
            "Length of vector: 2\n",
            "Sorted vector: [[1.1 2.1 3.2]\n",
            " [2.2 2.3 4.2]]\n",
            "Sum of elements: 15.100000000000001\n",
            "Product of elements: 157.09478400000003\n",
            "Median value: 2.25\n",
            "Mean value: 2.516666666666667\n",
            "Standard deviation: 0.9685326817178426\n",
            "Row-wise descending:\n",
            " [[3.2 2.1 1.1]\n",
            " [4.2 2.3 2.2]]\n",
            "Entire matrix descending:\n",
            " [[4.2 3.2 2.3]\n",
            " [2.2 2.1 1.1]]\n"
          ]
        }
      ]
    }
  ]
}